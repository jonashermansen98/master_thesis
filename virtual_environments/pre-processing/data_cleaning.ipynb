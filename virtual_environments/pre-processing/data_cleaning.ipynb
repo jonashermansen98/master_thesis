{
 "cells": [
  {
   "cell_type": "markdown",
   "id": "0b956340",
   "metadata": {},
   "source": [
    "# 2024 data"
   ]
  },
  {
   "cell_type": "code",
   "execution_count": 18,
   "id": "4f8e39b6-a802-4c81-80d8-0e3403f2d285",
   "metadata": {},
   "outputs": [
    {
     "name": "stdout",
     "output_type": "stream",
     "text": [
      "   Country              City  Courier_ID First_Delivery_Date  Feedback_ID  \\\n",
      "0      DNK        Copenhagen     5175698                 NaT     29374390   \n",
      "1      DNK  Nykøbing Falster     5264171                 NaT     34350731   \n",
      "2      DNK        Copenhagen     5554024                 NaT     35145053   \n",
      "3      DNK        Copenhagen     2179093                 NaT     29701415   \n",
      "4      DNK        Copenhagen     6148984                 NaT     40071646   \n",
      "\n",
      "  Feedback_Date  Weekly_Satisfaction  Rating_Application  Rating Support  \\\n",
      "0    2024-01-01                  NaN                 1.0             1.0   \n",
      "1    2024-01-01                  NaN                 1.0             1.0   \n",
      "2    2024-01-01                  NaN                 1.0             1.0   \n",
      "3    2024-01-01                  NaN                 1.0             1.0   \n",
      "4    2024-01-01                  NaN                 1.0             1.0   \n",
      "\n",
      "   Rating_Venues Comment  \n",
      "0            1.0     NaN  \n",
      "1            1.0     NaN  \n",
      "2            1.0     NaN  \n",
      "3            1.0     NaN  \n",
      "4            1.0     NaN  \n"
     ]
    },
    {
     "data": {
      "text/plain": [
       "656152"
      ]
     },
     "execution_count": 18,
     "metadata": {},
     "output_type": "execute_result"
    }
   ],
   "source": [
    "\n",
    "import pandas as pd\n",
    "\n",
    "# Set working directory (optional, depends on environment)\n",
    "# import os\n",
    "\n",
    "data = pd.read_excel('~/Library/Mobile Documents/com~apple~CloudDocs/UNI-kopi 2/Kandidat/Data/Raw/Courier_data_raw.xlsx')\n",
    "\n",
    "# Check the first few rows of the data\n",
    "print(data.head())\n",
    "len(data) # 9716 observations"
   ]
  },
  {
   "cell_type": "code",
   "execution_count": 19,
   "id": "ff59f2c5",
   "metadata": {},
   "outputs": [
    {
     "name": "stdout",
     "output_type": "stream",
     "text": [
      " Country                    0\n",
      "City                        0\n",
      "Courier_ID                  0\n",
      "First_Delivery_Date       683\n",
      "Feedback_ID                 0\n",
      "Feedback_Date               0\n",
      "Weekly_Satisfaction    579207\n",
      "Rating_Application      76945\n",
      "Rating Support          76945\n",
      "Rating_Venues           76945\n",
      "Comment                646436\n",
      "dtype: int64\n"
     ]
    }
   ],
   "source": [
    "# NAs in every column\n",
    "print(data.isna().sum())\n"
   ]
  },
  {
   "cell_type": "code",
   "execution_count": 20,
   "id": "72ed7233",
   "metadata": {},
   "outputs": [
    {
     "data": {
      "text/plain": [
       "9716"
      ]
     },
     "execution_count": 20,
     "metadata": {},
     "output_type": "execute_result"
    }
   ],
   "source": [
    "# Filter only feedback with a comment\n",
    "data = data[data['Comment'].notna()]\n",
    "\n",
    "# Show the number of observations in data\n",
    "len(data) # 9716 observations\n"
   ]
  },
  {
   "cell_type": "code",
   "execution_count": 21,
   "id": "a4d863dc",
   "metadata": {},
   "outputs": [
    {
     "name": "stdout",
     "output_type": "stream",
     "text": [
      "2240\n",
      "355\n"
     ]
    }
   ],
   "source": [
    "\n",
    "# How many duplicated comments\n",
    "print(data['Comment'].duplicated().sum())\n",
    "# 2240 duplicated comments\n",
    "\n",
    "# How many unique comments among the duplicates\n",
    "duplicates = data['Comment'][data['Comment'].duplicated(keep=False)]\n",
    "print(duplicates.nunique())\n",
    "# 355 unique comments among duplicates"
   ]
  },
  {
   "cell_type": "code",
   "execution_count": 22,
   "id": "01be385a",
   "metadata": {},
   "outputs": [
    {
     "name": "stdout",
     "output_type": "stream",
     "text": [
      "['Super' 'Very good' 'Great' 'Lang ventetid på burgerking'\n",
      " \"Sometimes the wolt app doesn't redirect to an accurate Google map address. Please give an option to copy the address from wolt, just like we can copy notes from the wolt app.\"\n",
      " 'Super fedt' 'Verry good' 'Nice' 'Godt' 'Good' 'Amazing' 'Excellent'\n",
      " 'Fint' '🥰🥰🥰🥰' 'Best' 'Best app' 'Love you wolt' 'Awesome' 'Supper'\n",
      " 'Wolt is good' 'Fine' 'Ok' 'Tak' 'Good luck' 'No order'\n",
      " 'Når jeg trykker på ring til kunden, bruger den ikke min standard telefon app, hvilket er irriterende'\n",
      " 'Gd' 'I love it' 'good' 'Perfekt' 'Good experience' 'Very happy'\n",
      " 'Meget godt' 'God' '😊' 'Dejligt' 'bug map' 'map bug' '👍' 'Very satisfied'\n",
      " 'alt er smukt' '👎👎👎' 'Fantastisk' 'Fedt arbejde' 'Happy'\n",
      " 'Пидарасы вы ебаные!' 'Worst job ever!' 'No orders sad' 'No orders'\n",
      " 'To many drivers' 'No orders 😩' 'Good weekend' '0000' '000' 'Goodt' '😟😟😟'\n",
      " '0' 'very happy' 'Not enough deliveries' 'Not enough orders'\n",
      " 'Why have you reduced the fares?' 'The best'\n",
      " 'Some apartments do not have an elevator and the customer lives on the upper floor and I have to carry their order to the end of the unit without paying any fees, this in the long run causes my knees to have problems and costs to doctor is more than my income .An option should be activated so that the cost of those who live on the upper floors is considered in the delivery cost .'\n",
      " 'Very nice' 'Super godt' 'Nice job' 'I' '😴😴😴' 'Perfect' '❤️'\n",
      " 'Not enough money' 'Good 👍' 'Elsker det' 'Perfeckt' 'Thanks' 'جيد جدن'\n",
      " 'Everything is good' 'Bad' 'No delivery' 'Not good' 'Thanks for today'\n",
      " 'No tasks' 'Yes' '71 66 35 69' 'Okay' 'Stop spamming' 'Dejligt nemt'\n",
      " 'Great experience' 'Lovely' '\\U0001faf6' 'Tak for i dag' 'I am happy'\n",
      " \"It's good\" '❤️❤️❤️❤️🙏🙏🙏🙏' '💙💙💙💙🙏🙏🙏🙏' '❤️❤️❤️❤️❤️❤️' '❤️❤️❤️❤️❤️' 'A'\n",
      " 'Good service' 'Dejlig' 'All good' 'جيد جدا' 'Muhammad usman' 'happy'\n",
      " 'رائع جدا' 'Nærmest ingen ordre' 'A lot of couriers' 'Hi' 'Very Happy'\n",
      " 'Alt godt' '😊😊' 'Too many couriers' 'Low orders' 'Low income' 'no orders'\n",
      " 'orders?' 'order??' 'orders???' 'order?' 'orders????' 'no have orders???'\n",
      " '???' 'no have orders?' '????' 'Lav indtjening' 'Lav løn'\n",
      " 'no have orders' '?' 'no orders?' 'no have orders??' '????????????'\n",
      " 'order???' '??' '?????' 'Mange tak wolt' 'Goddag wolt' 'Goddag'\n",
      " 'Goddag, tnx wolt' \"It's great ❤️\" 'Meget glad' 'Low pay'\n",
      " 'Not getting orders' 'Thanks support' 'Support very good 😊'\n",
      " 'Support thanks 🙏' 'Support thanks' 'Support thank you so much'\n",
      " 'Support thanks.' 'Not enough orders.' 'Very supportive' 'Need orders'\n",
      " '👎' 'Add copy' 'Desværre meget få ordrer 😥' 'Very bad'\n",
      " \"I don't have an order\" 'Thank you'\n",
      " 'Vi kan ikke tjene penge nok, fordi der er for mange nye kurerer. Find venligst en løsning på dette.'\n",
      " 'map not good' '.' 'I am not receiving task 😞' 'Hej' \"It's so annoying\"\n",
      " 'Pay more'\n",
      " 'lønnen er virkelig blevet dårlig man burde få 10 kr mere pr order'\n",
      " 'Lønnen er virkelig blevet dårlig'\n",
      " 'The new nighttime bonus is absolutely atrocious and disrespectful. 10% extra is NOTHING. Maybe 30-40% would be a realistic number. Normal workplaces give 1,5x more (+50%) for night shift workers. I would really like to work at night sometimes, but this so called bonus is just not worth it. I hope you will reconsider your approach and start treating courier PARTNERS as actual partners and nog as company slaves ✌️'\n",
      " 'Hi\\nI would like to file an official complaint against Wolt Danmark ApS for the violation of its own Employees Code of Conduct Section B, point (1), by failing to provide a fair and accurate financial report, since the company refuses to give a detailed breakdown of the task fees offered to the courier partners. The financial report must include an overview of the various alleged extra fees that the courier partner should receive, like distance-fees, weekend bonus, weather bonus, uphill-fee and so on. Until these are not provided, the courier partner has no option to check if they have received the correct compensation for each task, therefore we can not say that the financial report is fair and accurate. \\n\\nPS.: I am going to send this message every day to the chat support, to the email support, and I will also include it in my daily closing report, until there is change. We are partners to the company, not slaves to it, its time we get treated as such.'\n",
      " 'The new nighttime bonus is absolutely atrocious and disrespectful. 10% extra is NOTHING. Maybe 30-40% would be a realistic number. Normal workplaces give 1,5x more (+50%) for night shift workers. I would really like to work at night sometimes, but this so called bonus is just not worth it. I hope you will reconsider your approach and start treating courier PARTNERS as actual partners and not as company slaves ✌️'\n",
      " 'جميل' 'Too many couriers. Bad payment' 'Need order' 'Order' 'Order need'\n",
      " 'Nice Job' 'Good Job' 'Good Team' 'Law pris' 'Lort'\n",
      " 'Ikke det mest attraktive job' 'Alt for lav priser' 'Dårlig priser'\n",
      " 'Lav priser' '🙏' '👎👎👎👎👎👎' '👎👎👎👎👎' '🖕🖕🖕🖕🖕🖕🖕🖕🖕🖕🖕🖕🖕🖕🖕🖕'\n",
      " '🖕🖕🖕🖕🖕🖕🖕🖕🖕🖕🖕🖕🖕🖕🖕🖕🖕🖕🖕🖕🖕🖕🖕🖕🖕🖕🖕🖕🖕🖕🖕🖕🖕🖕🖕🖕🖕🖕🖕🖕🖕🖕'\n",
      " '🖕🖕🖕🖕🖕🖕🖕🖕🖕🖕🖕🖕🖕🖕🖕🖕🖕🖕🖕🖕🖕🖕🖕🖕🖕🖕🖕🖕🖕🖕🖕🖕🖕🖕🖕🖕🖕🖕🖕🖕🖕🖕🖕🖕🖕🖕🖕🖕🖕🖕🖕🖕🖕🖕🖕🖕🖕🖕🖕🖕🖕🖕🖕🖕🖕🖕🖕🖕🖕🖕'\n",
      " '🖕🖕🖕🖕🖕🖕🖕🖕🖕🖕🖕🖕🖕🖕🖕🖕🖕' '🖕🖕🖕🖕🖕🖕🖕🖕🖕🖕🖕🖕🖕🖕🖕🖕🖕🖕🖕🖕🖕🖕🖕🖕🖕🖕🖕🖕🖕🖕🖕🖕🖕🖕🖕🖕🖕🖕🖕🖕🖕🖕🖕🖕🖕🖕🖕🖕🖕🖕🖕'\n",
      " '👎👎👎👎👎👎👎👎👎👎👎👎👎👎👎👎👎👎👎👎👎👎👎👎👎👎👎👎👎👎👎👎👎👎👎👎👎👎👎👎👎👎👎👎👎👎👎👎👎👎👎👎👎👎👎👎👎👎👎👎👎👎👎👎👎👎👎👎👎👎'\n",
      " '👎👎👎👎👎👎👎👎👎👎👎👎👎👎👎👎👎👎👎👎👎👎👎👎👎👎👎👎👎👎👎👎👎👎👎👎👎👎👎👎👎👎'\n",
      " '👎🖕👎🖕👎🖕👎🖕👎🖕👎🖕👎🖕👎🖕👎🖕👎🖕👎🖕👎🖕👎🖕👎🖕👎🖕👎🖕👎🖕👎🖕👎🖕👎🖕👎🖕' '🖕🖕🖕🖕🖕🖕🖕🖕🖕🖕🖕🖕🖕🖕'\n",
      " '👎👎👎👎👎👎👎👎👎👎👎👎👎👎👎👎👎👎👎👎👎👎👎👎👎👎👎👎👎👎👎👎👎👎👎👎👎👎👎👎👎👎👎👎👎👎👎👎👎👎👎👎👎👎👎👎👎👎👎👎👎👎👎👎👎'\n",
      " '👎👎👎👎👎👎👎👎👎👎👎👎👎👎👎👎' '👎👎👎👎👎👎👎👎👎👎👎👎👎👎' '👎👎👎👎👎👎👎👎👎👎👎👎👎👎👎👎👎'\n",
      " 'F O W 🖕🖕🖕🖕🖕🖕🖕🖕🖕🖕🖕🖕🖕🖕🖕🖕🖕🖕🖕🖕🖕🖕🖕🖕🖕🖕🖕🖕🖕🖕🖕🖕🖕🖕🖕🖕🖕🖕🖕'\n",
      " '👎👎👎👎👎👎👎👎👎👎👎👎👎👎👎👎👎👎👎👎👎👎👎👎👎👎👎👎👎👎👎👎👎👎👎👎👎👎👎👎👎👎👎👎👎👎👎👎👎👎👎👎👎👎👎👎👎👎👎👎👎👎👎👎👎👎👎👎👎👎👎👎👎👎👎👎👎👎👎👎👎👎👎👎👎👎👎👎👎👎👎'\n",
      " '👎👎👎👎👎👎👎👎👎👎👎👎👎' '🖕🖕🖕🖕🖕🖕🖕🖕🖕🖕🖕🖕🖕🖕🖕🖕🖕💩💩💩💩💩💩💩💩💩💩💩💩💩💩💩💩💩'\n",
      " '👎👎👎👎👎👎👎👎👎👎👎👎👎👎👎👎👎👎👎👎👎👎👎👎👎👎👎👎👎👎👎👎👎👎👎👎👎👎👎👎👎👎👎👎👎👎👎👎👎👎👎'\n",
      " '🖕🖕🖕🖕🖕🖕🖕🖕🖕🖕🖕🖕🖕🖕👎👎👎👎👎👎👎👎👎👎👎👎👎👎' '👎👎👎👎👎👎👎👎👎👎👎👎👎👎👎👎👎👎👎👎👎👎👎👎👎👎👎👎👎👎👎👎👎👎👎👎👎👎👎'\n",
      " '🖕🖕🖕🖕🖕🖕🖕🖕🖕🖕🖕🖕🖕🖕🖕🖕🖕🖕🖕🖕🖕🖕🖕🖕🖕🖕🖕🖕🖕🖕🖕🖕🖕🖕🖕🖕🖕🖕🖕' '🖕🖕🖕🖕🖕🖕🖕🖕🖕🖕🖕🖕🖕'\n",
      " '👎🖕👎🖕👎🖕👎🖕👎🖕👎🖕👎🖕'\n",
      " '🖕🖕🖕🖕🖕🖕🖕🖕🖕🖕🖕🖕🖕🖕🖕🖕🖕🖕🖕🖕🖕🖕🖕🖕🖕🖕🖕🖕🖕🖕🖕🖕🖕🖕🖕🖕🖕🖕🖕🖕🖕🖕🖕🖕🖕🖕🖕🖕🖕🖕🖕🖕🖕🖕🖕🖕🖕🖕🖕🖕🖕🖕🖕🖕🖕🖕🖕🖕🖕🖕🖕🖕🖕🖕🖕🖕🖕🖕🖕🖕🖕🖕🖕🖕'\n",
      " '👎🖕👎🖕👎🖕👎🖕👎🖕👎🖕👎' '👎👎👎👎👎👎👎👎👎👎👎👎👎👎👎👎👎👎👎👎👎👎👎👎👎👎👎👎👎👎👎👎👎👎👎👎👎👎👎👎👎👎👎👎👎👎👎👎'\n",
      " 'No orders ??? 👎👎👎👎👎👎👎👎👎👎👎👎👎👎👎👎👎👎👎👎👎👎👎👎👎👎👎👎👎👎👎👎👎👎👎👎👎'\n",
      " '👎👎👎👎👎👎🖕👎👎👎👎👎👎👎👎🖕👎👎👎👎👎👎👎👎👎👎👎👎👎👎👎👎👎👎👎🖕👎👎👎'\n",
      " '👎👎👎👎👎👎👎👎👎👎👎👎👎👎👎👎👎👎👎👎👎👎👎👎👎👎👎👎👎👎👎👎👎👎👎👎👎👎👎👎👎👎👎👎👎👎👎👎👎👎👎👎👎👎👎👎👎👎👎👎👎👎👎👎👎👎👎👎👎👎👎👎👎👎👎👎👎👎👎👎'\n",
      " '👎🖕👎🖕👎🖕👎🖕👎🖕👎🖕👎🖕👎🖕👎🖕👎🖕👎🖕👎🖕👎🖕👎🖕👎🖕👎🖕👎🖕👎🖕👎🖕👎'\n",
      " '🖕🖕🖕🖕🖕🖕🖕🖕🖕🖕🖕🖕🖕🖕🖕🖕🖕🖕🖕🖕🖕🖕🖕🖕🖕🖕🖕🖕🖕🖕🖕🖕🖕🖕🖕🖕🖕🖕🖕🖕🖕🖕🖕🖕🖕🖕🖕🖕🖕🖕🖕🖕🖕🖕🖕🖕🖕🖕🖕🖕🖕🖕🖕🖕🖕'\n",
      " 'TRASH' '👎👎👎👎👎👎👎👎👎👎👎👎👎👎👎'\n",
      " '👎👎👎👎👎👎👎👎👎👎👎👎👎👎👎👎👎👎👎👎👎👎👎👎👎👎👎👎👎👎👎👎👎👎👎👎👎👎👎👎👎👎👎👎👎👎👎👎👎👎👎👎👎👎👎👎👎👎👎👎👎👎👎👎👎👎👎👎👎👎👎👎👎👎👎👎👎👎👎👎👎👎👎👎👎'\n",
      " '🖕🖕🖕🖕🖕🖕🖕🖕🖕🖕🖕🖕🖕🖕🖕🖕🖕🖕🖕🖕🖕🖕🖕🖕🖕🖕🖕🖕🖕🖕🖕🖕🖕🖕🖕🖕🖕🖕🖕🖕🖕🖕🖕🖕🖕🖕🖕🖕🖕🖕🖕🖕🖕🖕🖕🖕🖕🖕🖕🖕🖕🖕🖕🖕🖕🖕🖕🖕🖕🖕🖕🖕🖕🖕🖕🖕🖕🖕🖕🖕🖕🖕🖕🖕🖕🖕🖕🖕🖕🖕🖕🖕🖕🖕🖕🖕🖕🖕'\n",
      " '👎👎👎👎👎👎👎👎👎👎👎👎👎👎👎👎👎👎👎👎👎👎👎👎👎👎👎👎👎👎👎🖕🖕🖕🖕🖕👎👎👎👎👎👎👎👎👎👎👎👎👎👎👎👎👎👎👎👎👎👎👎👎👎👎👎👎👎'\n",
      " '💩💩💩💩💩💩💩💩💩💩💩💩💩💩👎👎👎👎👎👎👎👎👎👎👎👎👎👎' '♥️' 'The best 🤩' 'The best 🥰'\n",
      " 'App:\\n- Kan ikke se drikkevarer ved menubestillinger\\n\\n- Ikke alle “prikker” med venue/kundeadresse på kort kan ses ved pakkeopgaver. \\n\\nRestauranter:\\n\\n- Fresh Burgerbar markerer ordrer klar flere minutter før de faktisk er det.'\n",
      " 'many new messengers on the street!! There is no job for everyone!! They care little about us!! They only care about money!! The bad will return to all of you!'\n",
      " 'Unfortunately wolt is no longer the same as before when there were many orders, now there are many partners who pay less money every day, they always manage to not pay for vacations by telling you that you are their partner, they should be ashamed of how they abuse their partners who suffer from cold and rainevery day, you will all receive what you deserve, without a doubt it is the worst job in Denmark.'\n",
      " 'October 4th and there is no work, thank you wolt for adding partners all the time, for always thinking only of yourself, you are shit'\n",
      " 'If you know that in July people go on vacation, why do they get new partners? You have to prevent this before, there has been no work for a month!! How wolt always does everything wrong, they think of you and not your partners, thanks for nothing wolt'\n",
      " 'I remember when Wolt gave you the backpack, also the clothes, I remember when Wolt paid a minimum of 35 crowns per order, I remember when there was real work, when it was profitable, now it is a capitalist company exploiting the poor people who have to provide their own vehicle , go through coldwind and rain, they manage not to pay for vacations, let me tell you that ambition takes man to a dark place..'\n",
      " 'I remember when Wolt gave you the backpack, also the clothes, I remember when Wolt paid a minimum of 35 crowns per order, I remember when there was real work, when it was profitable, now it is a capitalist company exploiting the poor people who have to provide their own vehicle , go through cold,wind and rain, they manage not to pay for vacations, let me tell you that ambition takes man to a dark place..'\n",
      " 'There have been no orders on wolt for more than 2 months, I have been a wolt for 2 years, I have never seen so many partners as now, I must say that they are doing their job wrong, intentionally'\n",
      " 'They were obsessed with adding partners all year long and they forgot about us, on the 1st of the month and there has been no work for 5 months, you are not good people'\n",
      " \"Friday, October 4, there is no work, you should be ashamed because you don't waste your time, everything bad will come back to all of you, bye\"\n",
      " 'Friday, in Aarhus it rains and there are no orders, I have been doing wolt for 2 years and I have never seen so many partners on the street'\n",
      " 'You should know that many of us who have been doing wolt for a long time...will stop doing it, why? because the only thing you have done this last year was add partners, so there are never orders, in summer there are no orders, it is cold and there are no orders, it rains and there are no orders, wolt tells you that he is your partner so as not to pay you vacations, everything Time is thinking about how to pay you less money\\n This was a good job, now wolt exploits people, where should you put your vehicle, buy your clothes and backpack, the owners know that one day they will receive what they deserve for abusing these poor people.'\n",
      " \"I'm tired of going out to work and there are no orders and they keep adding partners because it suits Wolt, I hate all of you, you are the scum of Denmark, you should leave the country\"\n",
      " 'Scammerss' 'i am very happy with wolt 😊😊😊😊👍👍👍👍👍'\n",
      " 'i am very happy with wolt 😊😊😊😊😊👍👍👍👍👍👍'\n",
      " 'i am very happy with wolt \\n😊😊😊😊😊😊👍👍👍👍👍👍' 'No money'\n",
      " 'Payment is too low' 'Dårlig'\n",
      " 'Earnings are very low compared to the past. I do almost the same roads every day, but the money I earn decreases every day. There are a lot of expenses such as engine maintenance and gasoline. Making wolt does not make money anymore. If this continues, I will not do wolt.\\n\\nOrders coming too far, fees too low\\n\\nThe order seems ready, but when I come to the restaurant, it is not ready. I am given 5-6 minutes. Can you contact the restaurants so that they do not mark the orders as ready if they are not ready?\\n\\nDistance charges are decreasing day by da'\n",
      " 'Orders coming too far, fees too low\\n\\nThe order seems ready, but when I come to the restaurant, it is not ready. I am given 5-6 minutes. Can you contact the restaurants so that they do not mark the orders as ready if they are not ready?\\n\\nDistance charges are decreasing day by da'\n",
      " 'Horrible' 'Horrible experience' 'You still owe me 35kr'\n",
      " 'You own me 35kr' 'You own me 35kr !!!!' 'Very low demand'\n",
      " 'Awful experience' 'Low payment' 'Low salary'\n",
      " 'Freezing Old man looking for work(peace)' 'Og igen'\n",
      " 'Have an excellent day 😀😁🤣😁🤣😄😁' 'Have an excellent weekend 😁😌😁😌😀😄'\n",
      " 'Have an excellent week ☺️☺️😄😁😌😁' 'All perfect'\n",
      " 'Have an excellent day 😊😊😊😀😊😊😊😀' 'Have an excellent week ☺️☺️😄😊😄🤗'\n",
      " 'Have an excellent day ☺️😄😊😄😊😄🤗😊' 'Have an excellent week ☺️☺️😄😁😌😁😌😀'\n",
      " 'Have an excellent week ☺️☺️😄😁😌😀😄👍' 'Have an excellent week ☺️☺️😄😊😄🤗😊'\n",
      " 'Have an excellent Sunday ☺️☺️☺️😄😊😄' 'Have an excellent day ☺️😄😁😌😀😄'\n",
      " 'you all suck' 'Great!' '❤️❤️❤️❤️❤️❤️❤️' 'Underpaid.' 'Spild af tid'\n",
      " 'Latterligt' '💙💙💙' 'No work' 'Not enough work' 'Not happy'\n",
      " 'Very bad earning' 'Quiet' 'Wasted time' 'Very quiet' 'Few orders'\n",
      " 'Demand medium?' 'Wolt is trash' 'You are lort' 'Wolt=lort'\n",
      " 'you are rubbish, wolt is shit, you have dropped orders and I hope one day no one will work for you thieves'\n",
      " 'Wolt =lort' 'Wolt is wc' 'Wolt lort'\n",
      " \"I took an order, the payment shows 25 crowns, but in the end I was paid 23, so in the end the payment can be lower, 23 crowns, you don't even buy a pack of toilet paper these days\"\n",
      " 'Wolt =toilet' 'Wolt is lort' 'Wc' 'Wolt=toilet' '🤔🤔🤔'\n",
      " \"I would like to know why Wolt was very obsessed with adding partners all year, he doesn't care about his partners, he just wants money..\"\n",
      " 'No work, low pay' 'Low payments' 'Super low pay' 'Very low income'\n",
      " 'App lets me drive for miles, then offers almost ready order when I’m close to the venue'\n",
      " '\\U0001fae0' 'Ikke nok at lave.' 'Ikke nok at lave' 'For lidt at lave.'\n",
      " 'For lav løn' 'Wonderful' 'Very low demand!'\n",
      " 'Stadig for mange kurerer til antallet af ordrer' 'Order????' '??????'\n",
      " 'Orders??' 'Order?????' 'Orders???' 'Orders?????' 'Order?'\n",
      " 'No have orders??' 'Order???' 'Orders????' 'No have orders?????'\n",
      " 'Order??' 'No have orders' 'No have orders???' 'I am waiting for orders'\n",
      " 'No enough orders' 'Bad earnings' 'Horrible earnings'\n",
      " 'Hej med jer \"Wolt\" jeg vil starte med at nævne, at jeg har været vældig glad for min tid hos Wolt og stolt over at fortælle hvor godt vi tjener, som i dag hedder hvor godt vi plejede og tjene, for den tid er slut. I taler om at i har lyttet til os kure og retfærdigt gjort appen. Først har i sat vores startgebyr ned fra 45,- til 35,- tideligere var det fuglrafstand, så som bede på Islands Brygge, fugle afstand på 450 meter over vandet, når virkeligheden var 2 km. Ñu har i endnu en gang rettet appen til fordel for Wolt og ik os der har gjort jer rige. I videoen på YouTube fortæller fyren at i har lyttet til os, men det er altså ikke helt korrekt, eller så har i har misforstået noget. Nu har i så igen ændret appen til fordel for Wolt, så en levering der i virkeligheden er 5 km, kan give 21,50,- da det er en leverance tæt på den forrige og ikke som tidligere, begge ordre fra start til slut. Hvilket er noget helvedes svineri, Personligt afviser jeg alle ordre til mindre end 35,-\\nDet vil sige, selv en\\xa0 på 34,95,- bliver afvist \\n\\nJeg er super skuffet over jeres opførsel imod os. Der er desuden en stor del kollegaer, der er stoppet, og det kan tydeligt mærkes hvor travlt der er bleven. Mange ordre bliver smidt ud, og lavet på ny op til 3 gange har jeg oplevet, da os kure der er tilbage ik kan nå og hente i tide som i erstatter/betaler. 100% selv forskyldt \"Wolt\" Nærighed giver aldrig gode resultater. Giv og det kommer tilbage, nærig og du får smæk.!!'\n",
      " 'Hej med jer \"Wolt\" jeg vil starte med at nævne, at jeg har været vældig glad for min tid hos Wolt og stolt over at fortælle hvor godt vi tjener, som i dag hedder hvor godt vi plejede og tjene, for den tid er slut. I taler om at i har lyttet til os kure og retfærdigt gjort appen. Først har i sat vores startgebyr ned fra 45,- til 35,- tideligere var det fuglrafstand, så som bede på Islands Brygge, fugle afstand på 450 meter over vandet, når virkeligheden var 2 km. Ñu har i endnu en gang rettet appen til fordel for Wolt og ik os der har gjort jer rige. I videoen på YouTube fortæller fyren at i har lyttet til os, men det er altså ikke helt korrekt, eller så har i har misforstået noget. Nu har i så igen ændret appen til fordel for Wolt, så en levering der i virkeligheden er 5 km, kan give 21,50,- da det er en leverance tæt på den forrige og ikke som tidligere, begge ordre fra start til slut. Hvilket er noget helvedes svineri, Personligt afviser jeg alle ordre til mindre end 40,-\\nDet vil sige, selv en\\xa0 på 39,95,- bliver afvist \\n\\nJeg fik budt 26,- for og hente en ordre søndag i bonus tiden, +15,- i bonus, = 11,- kr for selve ordren.? \\n\\nJeg er super skuffet over jeres opførsel imod os. Der er desuden en stor del kollegaer, der er stoppet. 100% selv forskyldt \"Wolt\" Nærighed giver aldrig gode resultater. Giv og det kommer tilbage, nærig og du får smæk.!!'\n",
      " 'Hej med jer \"Wolt\" jeg vil starte med at nævne, at jeg har været vældig glad for min tid hos Wolt og stolt over at fortælle hvor godt vi tjener, som i dag hedder hvor godt vi plejede og tjene, for den tid er slut. I taler om at i har lyttet til os kure og retfærdigt gjort appen. Først har i sat vores startgebyr ned fra 45,- til 35,- tideligere var det fuglrafstand, som fra Islands Brygge, fugle afstand på 450 meter over vandet, når virkeligheden var 2 km. Ñu har i endnu en gang rettet appen til fordel for Wolt og ik os der har gjort jer rige. I videoen på YouTube fortæller fyren at i har lyttet til os, men det er altså ikke helt korrekt, eller også har i har misforstået noget. Nu har i så endnu engang ændret appen til fordel for Wolt, så en levering der i virkeligheden er 5 km, kan give 21,50,- da det er en leverance tæt på den forrige og ikke som tidligere, begge ordre fra start til slut. Hvilket er noget helvedes svineri, Personligt afviser jeg alle ordre til mindre end 40,-\\nDet vil sige, selv en\\xa0 på 39,95,- bliver afvist\\n\\nJeg fik budt 26,- for og hente en ordre en søndag i bonus tiden, +15,- i bonus, = 11,- kr for selve ordren.?\\n\\nJeg er super skuffet over jeres opførsel imod os. Der er desuden en stor del kollegaer, der er stoppet. 100% selv forskyldt \"Wolt\" Nærighed giver aldrig gode resultater. Giv og det kommer tilbage, nærig og du får smæk.!!'\n",
      " 'Hej med jer \"Wolt\" jeg vil starte med at nævne, at jeg har været vældig glad for min tid hos Wolt og stolt over at fortælle hvor godt vi tjener, som i dag hedder hvor godt vi plejede og tjene, for den tid er slut. I taler om at i har lyttet til os kure og retfærdigt gjort appen. Først har i sat vores startgebyr ned fra 45,- til 35,- tideligere var det fuglrafstand, så som bede på Islands Brygge, fugle afstand på 450 meter over vandet, når virkeligheden var 2 km. Ñu har i endnu en gang rettet appen til fordel for Wolt og ik os der har gjort jer rige. I videoen på YouTube fortæller fyren at i har lyttet til os, men det er altså ikke helt korrekt, eller så har i har misforstået noget. Nu har i så igen ændret appen til fordel for Wolt, så en levering der i virkeligheden er 5 km, kan give 21,50,- da det er en leverance tæt på den forrige og ikke som tidligere, begge ordre fra start til slut. Hvilket er noget helvedes svineri, Personligt afviser jeg alle ordre til mindre end 40,-\\nDet vil sige, selv en\\xa0 på 39,95,- bliver afvist\\xa0 \\n\\nJeg er super skuffet over jeres opførsel imod os. Der er desuden en stor del kollegaer, der er stoppet, og det kan tydeligt mærkes hvor travlt der er bleven. Mange ordre bliver smidt ud, og lavet på ny op til 3 gange har jeg oplevet, da os kure der er tilbage ik kan nå og hente i tide som i erstatter/betaler. 100% selv forskyldt \"Wolt\" Nærighed giver aldrig gode resultater. Giv og det kommer tilbage, nærig og du får smæk.!!'\n",
      " 'Hej med jer \"Wolt\" jeg vil starte med at nævne, at jeg har været vældig glad for min tid hos Wolt og stolt over at fortælle hvor godt vi tjener, som i dag hedder hvor godt vi plejede og tjene, for den tid er slut. I taler om at i har lyttet til os kure og retfærdigt gjort appen. Først har i sat vores startgebyr ned fra 45,- til 35,- tideligere var det fuglrafstand, så som bede på Islands Brygge, fugle afstand på 450 meter over vandet, når virkeligheden var 2 km. Ñu har i endnu en gang rettet appen til fordel for Wolt og ik os der har gjort jer rige. I videoen på YouTube fortæller fyren at i har lyttet til os, men det er altså ikke helt korrekt, eller så har i har misforstået noget. Nu har i så igen ændret appen til fordel for Wolt, så en levering der i virkeligheden er 5 km, kan give 21,50,- da det er en leverance tæt på den forrige og ikke som tidligere, begge ordre fra start til slut. Hvilket er noget helvedes svineri, Personligt afviser jeg alle ordre til mindre end 40,-\\nDet vil sige, selv en\\xa0 på 39,95,- bliver afvist \\n\\nJeg er super skuffet over jeres opførsel imod os. Der er desuden en stor del kollegaer, der er stoppet, og det kan tydeligt mærkes hvor travlt der er bleven. Mange ordre bliver smidt ud, og lavet på ny op til 3 gange har jeg oplevet, da os kure der er tilbage ik kan nå og hente i tide som i erstatter/betaler. 100% selv forskyldt \"Wolt\" Nærighed giver aldrig gode resultater. Giv og det kommer tilbage, nærig og du får smæk.!!'\n",
      " 'Hej med jer \"Wolt\" jeg vil starte med at nævne, at jeg har været vældig glad for min tid hos Wolt og stolt over at fortælle hvor godt vi tjener, som i dag hedder hvor godt vi plejede og tjene, for den tid er slut. I taler om at i har lyttet til os kure og retfærdigt gjort appen. Først har i sat vores startgebyr ned fra 45,- til 35,- tideligere var det fuglrafstand, som fra Islands Brygge, fugle afstand på 450 meter over vandet, når virkeligheden var 2 km. Ñu har i endnu en gang rettet appen til fordel for Wolt og ik os der har gjort jer rige. I videoen på YouTube fortæller fyren at i har lyttet til os, men det er altså ikke helt korrekt, eller også har i har misforstået noget. Nu har i så endnu engang ændret appen til fordel for Wolt, så en levering der i virkeligheden er 5 km, kan give 21,50,- da det er en leverance tæt på den forrige og ikke som tidligere, begge ordre fra start til slut. Hvilket er noget helvedes svineri, Personligt afviser jeg alle ordre til mindre end 40,-\\nDet vil sige, selv en\\xa0 på 39,95,- bliver afvist\\n\\nJeg fik budt 26,- for og hente en ordre søndag i bonus tiden, +15,- i bonus, = 11,- kr for selve ordren.?\\n\\nJeg er super skuffet over jeres opførsel imod os. Der er desuden en stor del kollegaer, der er stoppet. 100% selv forskyldt \"Wolt\" Nærighed giver aldrig gode resultater. Giv og det kommer tilbage, nærig og du får smæk.!!'\n",
      " 'Hej med jer \"Wolt\" jeg vil starte med at nævne, at jeg har været vældig glad for min tid hos Wolt og stolt over at fortælle hvor godt vi tjener, som i dag hedder hvor godt vi plejede og tjene, for den tid er slut. I taler om at i har lyttet til os kure og retfærdigt gjort appen. Først har i sat vores startgebyr ned fra 45,- til 35,- tideligere var det fuglrafstand, så som bede på Islands Brygge, fugle afstand på 450 meter over vandet, når virkeligheden var 2 km. Ñu har i endnu en gang rettet appen til fordel for Wolt og ik os der har gjort jer rige. I videoen på YouTube fortæller fyren at i har lyttet til os, men det er altså ikke helt korrekt, eller så har i har misforstået noget. Nu har i så igen ændret appen til fordel for Wolt, så en levering der i virkeligheden er 5 km, kan give 21,50,- da det er en leverance tæt på den forrige og ikke som tidligere, begge ordre fra start til slut. Hvilket er noget helvedes svineri, Personligt afviser jeg alle ordre til mindre end 40,-\\nDet vil sige, selv en\\xa0 på 39,95,- bliver afvist\\n\\nJeg fik budt 26,- for og hente en ordre søndag i bonus tiden, +15,- i bonus, = 11,- kr for selve ordren.?\\n\\nJeg er super skuffet over jeres opførsel imod os. Der er desuden en stor del kollegaer, der er stoppet. 100% selv forskyldt \"Wolt\" Nærighed giver aldrig gode resultater. Giv og det kommer tilbage, nærig og du får smæk.!!'\n",
      " 'Hej med jer \"Wolt\" jeg vil starte med at nævne, at jeg har været vældig glad for min tid hos Wolt og stolt over at fortælle hvor godt vi tjener, som i dag hedder hvor godt vi plejede og tjene, for den tid er slut. I taler om at i har lyttet til os kure og retfærdigt gjort appen. Først har i sat vores startgebyr ned fra 45,- til 35,- tideligere var det fuglrafstand, som fra Islands Brygge, fugle afstand på 450 meter over vandet, når virkeligheden var 2 km. Ñu har i endnu en gang rettet appen til fordel for Wolt og ik os der har gjort jer rige. I videoen på YouTube fortæller fyren at i har lyttet til os, men det er altså ikke helt korrekt, eller også har i har misforstået noget. Nu har i så igen ændret appen til fordel for Wolt, så en levering der i virkeligheden er 5 km, kan give 21,50,- da det er en leverance tæt på den forrige og ikke som tidligere, begge ordre fra start til slut. Hvilket er noget helvedes svineri, Personligt afviser jeg alle ordre til mindre end 40,-\\nDet vil sige, selv en\\xa0 på 39,95,- bliver afvist\\n\\nJeg fik budt 26,- for og hente en ordre søndag i bonus tiden, +15,- i bonus, = 11,- kr for selve ordren.?\\n\\nJeg er super skuffet over jeres opførsel imod os. Der er desuden en stor del kollegaer, der er stoppet. 100% selv forskyldt \"Wolt\" Nærighed giver aldrig gode resultater. Giv og det kommer tilbage, nærig og du får smæk.!!'\n",
      " 'Hej med jer \"Wolt\" jeg vil starte med at nævne, at jeg har været vældig glad for min tid hos Wolt og stolt over at fortælle hvor godt vi tjener, som i dag hedder hvor godt vi plejede og tjene, for den tid er slut. I taler om at i har lyttet til os kure og retfærdigt gjort appen. Først har i sat vores startgebyr ned fra 45,- til 35,- tideligere var det fuglrafstand, som fra Islands Brygge, fugle afstand på 450 meter over vandet, når virkeligheden var 2 km. Ñu har i endnu en gang rettet appen til fordel for Wolt og ik os der har gjort jer rige. I videoen på YouTube fortæller fyren at i har lyttet til os, men det er altså ikke helt korrekt, eller også har i har misforstået noget. Nu har i så endnu engang ændret appen til fordel for Wolt, så en levering der i virkeligheden er 5 km, kan give 21,50,- da det er en leverance tæt på den forrige og ikke som tidligere, begge ordre fra start til slut. Hvilket er noget helvedes svineri, Personligt afviser jeg alle ordre til mindre end 35,-\\nDet vil sige, selv en\\xa0 på 34,95,- bliver afvist\\n\\nJeg fik budt 26,- for og hente en ordre en søndag i bonus tiden, +15,- i bonus, = 11,- kr for selve ordren.?\\n\\nJeg er super skuffet over jeres opførsel imod os. Der er desuden en stor del kollegaer, der er stoppet. 100% selv forskyldt \"Wolt\" Nærighed giver aldrig gode resultater. Giv og det kommer tilbage, nærig og du får smæk.!!'\n",
      " 'I lytter ik alligevel' '💩💩💩💩💩💩💩💩💩' '💩💩💩💩💩' '💩💩💩💩💩💩' '💩💩💩💩💩💩💩💩💩💩💩💩💩💩'\n",
      " 'A big shame' 'Worse'\n",
      " \"It's a shame how you Wolts behave with us old couriers\\nhire lots of people and then it's normal that you earn nothing\\nyou should be reported to a union\\ntake better care of us couriers who have been working for a long time instead of hiring thousands of kids who only cause trouble and steal\\nshame on you\"\n",
      " 'Too many couriers are working outside the the peak hours, and here is the solution:\\nDivide all couriers into 3 groups. Only a specific group can work outside the peak hours, for a week at a time. All couriers takes part in a 3 week cycle. Evrybody can work during the peak hours.'\n",
      " 'Happy 🙂'\n",
      " 'You lowered the price of orders in February 2023. I have to place more orders and/or kilometers to earn the same as in January 2023 or last year.  It is obvious that they have modified something in the algorithm variables so that orders have decreased regardless of demand or weather.  With other colleagues we have compared our tasks with those of last year and we noticed the negative difference.  So please, go back to the old model and stop reducing our income every year and playing with us.  👎'\n",
      " 'Løn faldet for meget' 'Seriøst fuck jer. Taberfirma.' 'For lav løn nu']\n"
     ]
    }
   ],
   "source": [
    "# See the duplicated comment texts\n",
    "print(duplicates.unique())"
   ]
  },
  {
   "cell_type": "code",
   "execution_count": 23,
   "id": "e982ef7d",
   "metadata": {},
   "outputs": [
    {
     "name": "stdout",
     "output_type": "stream",
     "text": [
      "1813\n"
     ]
    }
   ],
   "source": [
    "# Check for duplicated comment from same courier\n",
    "dublicated_comments_by_same_courier = (\n",
    "    data.groupby(['Courier_ID', 'Comment'])\n",
    "    .size()\n",
    "    .reset_index(name='count')\n",
    "    .query('count > 1')\n",
    ")\n",
    "\n",
    "# How many duplicated comments total from the same couriers\n",
    "print((dublicated_comments_by_same_courier['count'] - 1).sum()) #minusser med 1, fordi den oprindelige kommentar ikke skal betragtes som duplikation.\n",
    "# 1813 duplicated entries\n",
    "\n",
    "# See the duplicated comments from the same couriers in the variable definition "
   ]
  },
  {
   "cell_type": "code",
   "execution_count": 25,
   "id": "c65adf79",
   "metadata": {},
   "outputs": [
    {
     "data": {
      "text/plain": [
       "7903"
      ]
     },
     "execution_count": 25,
     "metadata": {},
     "output_type": "execute_result"
    }
   ],
   "source": [
    "# Remove duplicate comments within the same Courier_ID\n",
    "data = data.drop_duplicates(subset=['Courier_ID', 'Comment'])\n",
    "# Show the number of observations in dat2\n",
    "len(data) # 7903 observations.\n",
    "\n",
    "# so the 1813 duplicates have been correctly removed\n",
    "\n",
    "#9716 - 1813 = 7903"
   ]
  },
  {
   "cell_type": "code",
   "execution_count": 27,
   "id": "5fbd8c0b",
   "metadata": {},
   "outputs": [],
   "source": [
    "# Save data as a CSV file without row names\n",
    "data.to_csv(\"dat2024_no_dup.csv\", index=False)\n"
   ]
  },
  {
   "cell_type": "markdown",
   "id": "545403a7",
   "metadata": {},
   "source": [
    "# 2023 data "
   ]
  },
  {
   "cell_type": "code",
   "execution_count": null,
   "id": "50072ed2",
   "metadata": {},
   "outputs": [
    {
     "name": "stdout",
     "output_type": "stream",
     "text": [
      "   Country        City  Courier_ID First_Delivery_Date  Feedback_ID  \\\n",
      "0      DNK  Copenhagen     5315018          2023-12-30     27124285   \n",
      "1      DNK   Vestegnen     5313152          2023-12-30     27110779   \n",
      "2      DNK  Copenhagen     5312732          2023-12-29     27084202   \n",
      "3      DNK      Odense     5311470          2023-12-29     27088158   \n",
      "4      DNK      Odense     5311470          2023-12-29     27118247   \n",
      "\n",
      "  Feedback_Date  Weekly_Satisfaction  Rating_Application  Rating Support  \\\n",
      "0    2023-12-30                  NaN                 1.0             1.0   \n",
      "1    2023-12-30                  NaN                 1.0             1.0   \n",
      "2    2023-12-29                  5.0                 NaN             NaN   \n",
      "3    2023-12-29                  NaN                -1.0             1.0   \n",
      "4    2023-12-30                  NaN                -1.0             1.0   \n",
      "\n",
      "   Rating_Venues Comment  \n",
      "0            1.0     NaN  \n",
      "1            1.0     NaN  \n",
      "2            NaN     NaN  \n",
      "3            1.0     NaN  \n",
      "4           -1.0     NaN  \n"
     ]
    },
    {
     "data": {
      "text/plain": [
       "499116"
      ]
     },
     "execution_count": 36,
     "metadata": {},
     "output_type": "execute_result"
    }
   ],
   "source": [
    "\n",
    "import pandas as pd\n",
    "\n",
    "# Set working directory (optional, depends on environment)\n",
    "# import os\n",
    "\n",
    "data2 = pd.read_excel('~/Library/Mobile Documents/com~apple~CloudDocs/UNI-kopi 2/Kandidat/Data/2023/Courier_data_raw_2023.xlsx')\n",
    "\n",
    "# Check the first few rows of the data\n",
    "print(data2.head())\n",
    "len(data2) "
   ]
  },
  {
   "cell_type": "code",
   "execution_count": 37,
   "id": "c7a4f44f",
   "metadata": {},
   "outputs": [
    {
     "name": "stdout",
     "output_type": "stream",
     "text": [
      " Country                    0\n",
      "City                        0\n",
      "Courier_ID                  0\n",
      "First_Delivery_Date       353\n",
      "Feedback_ID                 0\n",
      "Feedback_Date               0\n",
      "Weekly_Satisfaction    449015\n",
      "Rating_Application      50101\n",
      "Rating Support          50101\n",
      "Rating_Venues           50101\n",
      "Comment                492036\n",
      "dtype: int64\n"
     ]
    }
   ],
   "source": [
    "# NAs in every column\n",
    "print(data2.isna().sum())"
   ]
  },
  {
   "cell_type": "code",
   "execution_count": 38,
   "id": "04972427",
   "metadata": {},
   "outputs": [
    {
     "data": {
      "text/plain": [
       "7080"
      ]
     },
     "execution_count": 38,
     "metadata": {},
     "output_type": "execute_result"
    }
   ],
   "source": [
    "# Filter only feedback with a comment\n",
    "data2 = data2[data2['Comment'].notna()]\n",
    "\n",
    "# Show the number of observations in data\n",
    "len(data2) # 9716 observations"
   ]
  },
  {
   "cell_type": "code",
   "execution_count": 39,
   "id": "e375a5b0",
   "metadata": {},
   "outputs": [
    {
     "name": "stdout",
     "output_type": "stream",
     "text": [
      "1273\n",
      "270\n"
     ]
    }
   ],
   "source": [
    "\n",
    "# How many duplicated comments\n",
    "print(data2['Comment'].duplicated().sum())\n",
    "# 2240 duplicated comments\n",
    "\n",
    "# How many unique comments among the duplicates\n",
    "duplicates = data2['Comment'][data2['Comment'].duplicated(keep=False)]\n",
    "print(duplicates.nunique())\n",
    "# 355 unique comments among duplicates"
   ]
  },
  {
   "cell_type": "code",
   "execution_count": 40,
   "id": "50485f5c",
   "metadata": {},
   "outputs": [
    {
     "name": "stdout",
     "output_type": "stream",
     "text": [
      "['Godt' 'Thank you' 'Cool' 'Very well' 'Amazing' 'Very good' 'Great'\n",
      " 'Best' 'Very happy' 'Superb' 'Thanks' 'Happy' 'Excellent' 'Очень доволен'\n",
      " 'Good' 'Ikke nok ordrer' 'Love it' 'Kafaahasan' 'Good job' 'God'\n",
      " 'Very satisfied' '😍😍😍😍' '👌' '💙💙' '💙💙💙' 'Fedt' 'Tak for hjælpen Wolt!'\n",
      " 'Fantastisk' 'Perfekt' 'Thanks Wolt' '👍' 'Super' 'Need order'\n",
      " 'Need more order' 'Order need' 'Order' 'No order' 'Order needed' 'Fint'\n",
      " 'Good Job' 'Nice job' '💛' '👍🏾' 'Nice' ':)'\n",
      " 'A better way to earn extra income' 'Glad' 'Süper' 'Meget glad 😊'\n",
      " 'Its good' \"I'm very happy\" 'Perfect' 'Flot' 'Very good 👍' 'The best 🤩'\n",
      " 'The best 😍' 'The best' 'The best 🥰' '🤩' 'I love it'\n",
      " 'Lagkagehuset er langsomme' 'Dejligt' 'Have to take electric' 'Super ok'\n",
      " 'Fuck off' 'Pay more' 'Ok' 'Det fedt' 'Super godt' 'Every thing good'\n",
      " '10' '😇' 'I' 'Meget glad' 'wolt is the best i am happy with this'\n",
      " 'Best app' 'Amazing 🤩' '71671950' 'Wolt market vanlose' 'Wolt marketW'\n",
      " 'Cr7' 'Wolt market' 'Ffffkkkkdddd' 'CR7' 'Good!' 'Shit payment'\n",
      " 'They should consider closing wolt, deplorable, there is no work, there are more couriers than orders, they pay little money'\n",
      " \"Wolt should close, it's not what it was before, more couriers than orders, they don't pay vacations, they pay less than before, couriers are being abused\"\n",
      " 'They are being very selfish because they keep adding delivery people and there is no work for everyone'\n",
      " \"One day there is a lot of work and the next nothing, that's how it is wolt, all the time, inefficient, opportunistic, basic, they only think about themselves and do not pay vacations.\"\n",
      " 'Few orders' 'Yes' '👍👍👍' 'Thenx for todey' 'Thenx' 'Thenx for todey ♥️'\n",
      " 'Thenx for todey ♥️♥️💪' 'Scam' 'Good app' 'Good day'\n",
      " 'Orders coming too far, fees too low\\n\\nThe order seems ready, but when I come to the restaurant, it is not ready. I am given 5-6 minutes. Can you contact the restaurants so that they do not mark the orders as ready if they are not ready?'\n",
      " 'ordrer leveres meget sent' 'Orders coming too far, fees too low'\n",
      " 'Earnings are very low compared to the past. I do almost the same roads every day, but the money I earn decreases every day. There are a lot of expenses such as engine maintenance and gasoline. Making wolt does not make money anymore. If this continues, I will not do wolt.\\n\\nOrders coming too far, fees too low\\n\\nThe order seems ready, but when I come to the restaurant, it is not ready. I am given 5-6 minutes. Can you contact the restaurants so that they do not mark the orders as ready if they are not ready?'\n",
      " 'Earnings are very low compared to the past. I do almost the same roads every day, but the money I earn decreases every day. There are a lot of expenses such as engine maintenance and gasoline. Making wolt does not make money anymore. If this continues, I will not do wolt.\\n\\nOrders coming too far, fees too low'\n",
      " 'Orders coming too far, fees too low\\n\\nThe order seems ready, but when I come to the restaurant, it is not ready. I am given 5-6 minutes. Can you contact the restaurants so that they do not mark the orders as ready if they are not ready?\\n\\nDistance charges are decreasing day by da'\n",
      " 'Earnings are very low compared to the past. I do almost the same roads every day, but the money I earn decreases every day. There are a lot of expenses such as engine maintenance and gasoline. Making wolt does not make money anymore. If this continues, I will not do wolt.\\n\\nOrders coming too far, fees too low\\n\\nThe order seems ready, but when I come to the restaurant, it is not ready. I am given 5-6 minutes. Can you contact the restaurants so that they do not mark the orders as ready if they are not ready?\\n\\nDistance charges are decreasing day by da'\n",
      " 'Great day' 'Great day!'\n",
      " 'The distance in km between deliveries Doesn’t match the distance calculated by Google\\nMaps or phone Kort. \\nWe usually have to drive sometimes double, and even worse, some times triple the amount of distance by car, and that’s sad.'\n",
      " 'Tak' '0' 'Super!' '❤️' 'Udnyttelse af billig arbejdskraft 👎🏻'\n",
      " 'A lot of couriers' 'Gooood' 'Very Happy' 'All perfect'\n",
      " 'Have a nice weekend' 'Have a nice week' 'Have a nice Sunday'\n",
      " 'Have a nice day' 'Have a good night' 'Have a nice week 👍👍👍👍👍'\n",
      " 'Have a excellent weekend' 'Have a nice week 👍👍👍' 'O' 'Fuck you' 'V' '💙'\n",
      " 'Very bad' '❤️❤️❤️❤️❤️' '👎👎👎👎🤔🤔' '👎👎👎👎👎👎' '👎👎👎👎👎' '👎👎👎👎👎👎👎' '🤔🤔🤔'\n",
      " '91191255' 'Pay more.' 'Løndumping' 'Very bad paid orders'\n",
      " 'Priserne er for lav' '💜' '❤️❤️' 'So bad'\n",
      " 'Macdonalds in Naestved are complete mess with very long waiting time and no one cares.....wolt team is not bothered by this chaos and wastage of hours for each driver everyday....'\n",
      " 'Stop hiring people in Aalborg!!!!' 'Stop hiring people in Aalborg'\n",
      " 'Stop hiring people in Aalborg!!!!!!!!!' 'Lønningerne er billige'\n",
      " 'Ingen opgaver' 'Not good' 'Thank you for your help and support 💙💙💙💙'\n",
      " '💙💙💙💙' 'No order today' 'Lort'\n",
      " 'this is the money you gave me in 3 hours, 40 crowns per hour'\n",
      " 'Wolt lort' 'Wolt=lort' 'Wolt= lort' 'Lort wolt' 'Wolt is lort'\n",
      " 'Wolt/lort' 'Dårlig løn' '🙏' 'eeeeee' 'eeeeeee' 'eeee' 'eeeee' '🙏🙏🙏🙏🙏🙏'\n",
      " '🙏🙏' '💩💩💩💩💩💩💩💩💩💩' 'Rise base payment' 'Lift base payment'\n",
      " 'The number of people delivering has become so large that I cannot collect 130 kr every hour. This is unreasonable'\n",
      " 'Not enough orders' 'Rise the payment!!!' 'No tasks' 'Good 👍' '💙😘🙏'\n",
      " 'No orders in 1 hour' 'Very nice' 'Please add CarPlay 🙏🏻' 'no orders?'\n",
      " 'Ordreeeee' '🙏🙏🙏🙏🙏🙏🙏🙏🙏' 'ALGORITME 😡😡😡😡😡😡😡😡😡😡😡😡😡😡😡😡😡😡😡😡😡😡😡😡😡😡😡😡'\n",
      " '😡😡😡😡😡😡😡😡😡' '🙏🙏🙏🙏🙏🙏🙏🙏🙏🙏' '😡😡😡😡😡😡😡😡' '😡😡😡😡😡😡😡😡😡😡😡😡😡😡😡😡😡😡😡😡😡😡😡😡😡😡😡😡😡😡😡😡'\n",
      " '💙💙💙💙💙💙💙💙💙' '😡😡😡😡😡😡😡😡😡😡😡😡😡😡😡😡😡😡😡😡😡😡😡😡😡😡😡😡😡😡😡😡😡😡😡😡😡😡😡😡😡😡😡😡😡😡😡😡'\n",
      " '😡😡😡😡😡😡😡😡😡😡😡😡😡😡😡😡😡😡😡😡😡😡😡😡😡😡😡😡😡😡😡😡😡😡😡😡😡😡😡😡😡' '🙏🙏🙏🙏🙏🙏🙏' 'Great experience'\n",
      " 'Fix the app'\n",
      " 'App lets me drive for miles, then offers almost ready order when I’m close to the venue'\n",
      " 'Same bs: You have programmed the algorithm to wait with offering tasks until one is around 500 meter away from the venue, probably only when order level is quiet/order is not too late…'\n",
      " 'No orders'\n",
      " \"Durum Bar Frederiksberg\\nSmallegade 56, 2000 Frederiksberg\\nThe restaurant is always cheating. They mark the food ready, but they start to make it only when we show up. They do they ask wolt for double pay for the remake orders, but they never make the orders, they start making after we show up only. I have never seen the order ready in the restaurant. Even if they make an order for the first time, they don't give it to us until they get a response for double pay from wolt. I got an order today. It was marked ready. 3 minutes late. I asked them where the food is. They asked me to wait 5 minutes to make it, but they never make it in 5 minutes. I removed the order. One of my friends received the same order after 7 minutes.  He arrived at the venue, and they said they have to remake it cause its late. He asked to show the food of remake, and they had nothing to show.\\nPlease investigate the restaurant, cause they stealing money from wolt and time from drivers\"\n",
      " 'Lack of orders' 'There is no work' 'Much love to you all' 'Add heatmap'\n",
      " 'Hej med jer \"Wolt\" jeg vil starte med at nævne, at jeg har været vældig glad for min tid hos Wolt og stolt over at fortælle hvor godt vi tjener, som i dag hedder hvor godt vi plejede og tjene, for den tid er slut. I taler om at i har lyttet til os kure og retfærdigt gjort appen. Først har i sat vores startgebyr ned fra 45,- til 35,- tideligere var det fuglrafstand på 450 meter når virkeligheden var 2 km. Ñu har i endnu en gang rettet appen til fordel for Wolt og ik os der har gjort jer rige. I videoen på YouTube fortæller fyren at i har lyttet til os, men det er altså ikke helt korrekt, eller så har i har misforstået noget. Nu har i så igen ændret appen til fordel for Wolt, så en levering der i virkeligheden er 5 km, kan give 21,50,- da det er en leverance tæt på den forrige og ikke som tidligere, begge ordre fra start til slut. Hvilket er noget helvedes svineri, Personligt afviser jeg alle ordre til mindre end 35,-\\nDet vil sige, selv en\\xa0 på 34,95,- bliver afvist \\n\\nJeg er super skuffet over jeres opførsel imod os. Der er desuden en stor del kollegaer, der er stoppet, og det kan tydeligt mærkes hvor travlt der er bleven. Mange ordre bliver smidt ud, og lavet på ny op til 3 gange har jeg oplevet, da os kure der er tilbage ik kan nå og hente i tide som i erstatter/betaler. 100% selv forskyldt \"Wolt\" Nærighed giver aldrig gode resultater. Giv og det kommer tilbage, nærig og du får smæk.!!\\nDet varer nok ik længe til jeg gør samme'\n",
      " 'Hej med jer \"Wolt\" jeg vil starte med at nævne, at jeg har været vældig glad for min tid hos Wolt og stolt over at fortælle hvor godt vi tjener, som i dag hedder hvor godt vi plejede og tjene, for den tid er slut. I taler om at i har lyttet til os kure og retfærdigt gjort appen. Først har i sat vores startgebyr ned fra 45,- til 35,- tideligere var det fuglrafstand på 450 meter når virkeligheden var 2 km. Ñu har i endnu en gang rettet appen til fordel for Wolt og ik os der har gjort jer rige. I videoen på YouTube fortæller fyren at i har lyttet til os, men det er altså ikke helt korrekt, eller så har i har misforstået noget. Nu har i så igen ændret appen til fordel for Wolt, så en levering der i virkeligheden er 5 km, kan give 24,- da det er en leverance tæt på den forrige og ikke som tidligere, begge ordre fra start til slut. Personligt afviser jeg alle ordre til mindre end 35,-\\nDet vil sige, selv en\\xa0 på 34,95,- bliver afvist \\n\\nJeg er super skuffet over jeres opførsel imod os. Der er desuden en stor del kollegaer, der er stoppet, og det kan tydeligt mærkes hvor travlt der er bleven. Mange ordre bliver smidt ud, og lavet på ny op til 3 gange har jeg oplevet, da os kure der er tilbage ik kan nå og hente i tide som i erstatter/betaler. 100% selv forskyldt \"Wolt\" Nærighed giver aldrig gode resultater. Giv og det kommer tilbage, nærig og du får smæk.!!\\nDet varer nok ik længe til jeg gør samme'\n",
      " 'Hej med jer \"Wolt\" i taler om at i har lyttet til os kure og retfærdigt gjort appen. Først har i sat vores startgebyr ned fra 45,- til 35,- tideligere var det fuglrafstand på 450 meter når virkeligheden var 2 km. Ñu har i endnu en gang rettet appen til fordel for Wolt og ik os der har gjort jer rige. I videoen på YouTube fortæller fyren at i har lyttet til os, hvor vi fik betaling pr stk for afstand. Nu har i så igen ændret appen til fordel for Wolt, så en levering der i virkeligheden er 5 km, kan give 31,- da det er en leverance tæt på den forrige og ikke som tidligere, begge ordre fra start til slut \\n\\nPs. Jeg er super skuffet over jeres opførsel imod os'\n",
      " 'Hej med jer \"Wolt\" jeg vil starte med at nævne, at jeg har været vældig glad for min tid hos Wolt og stolt over at fortælle hvor godt vi tjener, som i dag hedder hvor godt vi plejede og tjene, for den tid er slut. I taler om at i har lyttet til os kure og retfærdigt gjort appen. Først har i sat vores startgebyr ned fra 45,- til 35,- tideligere var det fuglrafstand på 450 meter når virkeligheden var 2 km. Ñu har i endnu en gang rettet appen til fordel for Wolt og ik os der har gjort jer rige. I videoen på YouTube fortæller fyren at i har lyttet til os, men det er altså ikke helt korrekt, eller så har i har misforstået noget. Nu har i så igen ændret appen til fordel for Wolt, så en levering der i virkeligheden er 5 km, kan give 24,- da det er en leverance tæt på den forrige og ikke som tidligere, begge ordre fra start til slut. Personligt afviser jeg alle ordre til mindre end 35,-\\nDet vil sige, selv en på 34,95,- bliver afvist \\n\\nJeg er super skuffet over jeres opførsel imod os. Der er desuden en stor del kollegaer, der er stoppet, og det kan tydeligt mærkes hvor travlt der er bleven. Mange ordre bliver smidt ud, og lavet på ny op til 3 gange har jeg oplevet, da os kure der er tilbage ik kan nå og hente i tide som i erstatter/betaler. 100% selv forskyldt \"Wolt\" Nærighed giver aldrig gode resultater. Giv og det kommer tilbage, nærig og du får smæk.!!\\nDet varer nok ik længe til jeg gør samme'\n",
      " 'Hej med jer \"Wolt\" jeg vil starte med at nævne, at jeg har været vældig glad for min tid hos Wolt og stolt over at fortælle hvor godt vi tjener, som i dag hedder hvor godt vi plejede og tjene, for den tid er slut. I taler om at i har lyttet til os kure og retfærdigt gjort appen. Først har i sat vores startgebyr ned fra 45,- til 35,- tideligere var det fuglrafstand, så som bede på Islands Brygge, fugle afstand på 450 meter over vandet, når virkeligheden var 2 km. Ñu har i endnu en gang rettet appen til fordel for Wolt og ik os der har gjort jer rige. I videoen på YouTube fortæller fyren at i har lyttet til os, men det er altså ikke helt korrekt, eller så har i har misforstået noget. Nu har i så igen ændret appen til fordel for Wolt, så en levering der i virkeligheden er 5 km, kan give 21,50,- da det er en leverance tæt på den forrige og ikke som tidligere, begge ordre fra start til slut. Hvilket er noget helvedes svineri, Personligt afviser jeg alle ordre til mindre end 35,-\\nDet vil sige, selv en\\xa0 på 34,95,- bliver afvist \\n\\nJeg er super skuffet over jeres opførsel imod os. Der er desuden en stor del kollegaer, der er stoppet, og det kan tydeligt mærkes hvor travlt der er bleven. Mange ordre bliver smidt ud, og lavet på ny op til 3 gange har jeg oplevet, da os kure der er tilbage ik kan nå og hente i tide som i erstatter/betaler. 100% selv forskyldt \"Wolt\" Nærighed giver aldrig gode resultater. Giv og det kommer tilbage, nærig og du får smæk.!!'\n",
      " 'Hej med jer \"Wolt\" i taler om at i har lyttet til os kure og retfærdigt gjort appen. Først har i sat vores startgebyr ned fra 45,- til 35,- tideligere var det fuglrafstand på 450 meter når virkeligheden var 2 km. Ñu har i endnu en gang rettet appen til fordel for Wolt og ik os der har gjort jer rige. I videoen på YouTube fortæller fyren at i har lyttet til os, hvor vi fik betaling pr stk for afstand. Nu har i så igen ændret appen til fordel for Wolt, så en levering der i virkeligheden er 5 km, kan give 31,- da det er en leverance tæt på den forrige \\n\\nPs. Jeg er super skuffet over jeres opførsel imod os'\n",
      " 'Hej med jer \"Wolt\" i taler om at i har lyttet til os kure og retfærdigt gjort appen. Først har i sat vores startgebyr ned fra 45,- til 35,- tideligere var det fuglrafstand på 450 meter når virkeligheden var 2 km. Ñu har i endnu en gang rettet appen til fordel for Wolt og ik os der har gjort jer rige. I videoen på YouTube fortæller fyren at i har lyttet til os, hvor vi plejede at få betaling pr stk for fuld afstand. Nu har i så igen ændret appen til fordel for Wolt, så en levering der i virkeligheden er 5 km, kan give 31,- da det er en leverance tæt på den forrige og ikke som tidligere, begge ordre fra start til slut \\n\\nPs. Jeg er super skuffet over jeres opførsel imod os. Jeg har desuden talt med en del kollegaer, der siger at de snart stopper. Det varer ik længe til jeg gør samme'\n",
      " 'Hej med jer \"Wolt\" i taler om at i har lyttet til os kure og retfærdigt gjort appen. Først har i sat vores startgebyr ned fra 45,- til 35,- tideligere var det fuglrafstand på 450 meter når virkeligheden var 2 km og nu endnugang har i rettet appen til fordel for Wolt og tager røven på os kure, der har gjort jer rige. I videoen på YouTube siger fyren at i har lyttet til os, og så gør i en betaling på 300 m da vi har en bundle łevering er på 300 m fra hinanden. Tideligere var det pr stk aflevering fra start til slut. I blærer jer nu over at os kure også får penge for afstand på hentning. I dag 2 gange har jeg fået betalt for 6 gange for lidt \"se billed på sandhed og løgn. En ting er at det sker, men når det sker til dagligt så er det jo løgn. Det er sket ik mindre end 2 gange bare i dag, appen siger hentning på 0,7 imens virkeligheden var 4,2 km\\xa0 Jeg har altid rost Wolt som den geniale arbejdsplads, men nu er det slut.'\n",
      " 'Hej med jer \"Wolt\" i taler om at i har lyttet til os kure og retfærdigt gjort appen. Først har i sat vores startgebyr ned fra 45,- til 35,- tideligere var det fuglrafstand på 450 meter når virkeligheden var 2 km. Ñu har i endnu en gang rettet appen til fordel for Wolt og ik os der har gjort jer rige. I videoen på YouTube fortæller fyren at i har lyttet til os, hvor vi fik betaling pr stk for afstand. Nu har i så igen ændret appen til fordel for Wolt, så en levering der i virkeligheden er 5 km, kan give 31,- da det er en leverance tæt på den forrige og ikke som tidligere, begge ordre fra start til slut \\n\\nPs. Jeg er super skuffet over jeres opførsel imod os. Jeg har desuden talt med en del kollegaer, der siger at de snart stopper'\n",
      " 'Hej med jer \"Wolt\" i taler om at i har lyttet til os kure og retfærdigt gjort appen. Først har i sat vores startgebyr ned fra 45,- til 35,- tideligere var det fuglrafstand på 450 meter når virkeligheden var 2 km og nu endnugang har i rettet appen til fordel for Wolt og tager røven på os kure, der har gjort jer rige. I videoen på YouTube siger fyren at i har lyttet til os, hvor vi fik betydning pr stk for afstand. nu har i ændret det endnugang til jer fordel så der er afstand fra hinanden og ik afstand fra hentning til levering pr stk \\n\\nPs. Jeg er super skuffet over jeres opførsel imod os'\n",
      " 'Hej med jer \"Wolt\" i taler om at i har lyttet til os kure og retfærdigt gjort appen. Først har i sat vores startgebyr ned fra 45,- til 35,- tideligere var det fuglrafstand på 450 meter når virkeligheden var 2 km. Ñu har i endnu en gang rettet appen til fordel for Wolt og ik os der har gjort jer rige. I videoen på YouTube fortæller fyren at i har lyttet til os, hvor vi fik betaling pr stk for afstand. Nu har i så igen ændret appen til fordel for Wolt, så en levering der i virkeligheden er 5 km, kan give 31,- da det er en leverance tæt på den forrige og ikke som tidligere, begge ordre fra start til slut \\n\\nPs. Jeg er super skuffet over jeres opførsel imod os. Jeg har desuden talt med en kollegaer, der siger at de snart stopper'\n",
      " 'Hej med jer \"Wolt\" i taler om at i har lyttet til os kure og retfærdigt gjort appen. Først har i sat vores startgebyr ned fra 45,- til 35,- tideligere var det fuglrafstand på 450 meter når virkeligheden var 2 km. Ñu har i endnu en gang rettet appen til fordel for Wolt og ik os der har gjort jer rige. I videoen på YouTube fortæller fyren at i har lyttet til os, hvor vi plejede at få betaling pr stk for fuld afstand. Nu har i så igen ændret appen til fordel for Wolt, så en levering der i virkeligheden er 5 km, kan give 24,- da det er en leverance tæt på den forrige og ikke som tidligere, begge ordre fra start til slut. Personligt afviser jeg alle ordre til mindre end 35,-\\nDet vil sige, selv en på 34,95,- bliver afvist \\n\\nJeg er super skuffet over jeres opførsel imod os. Der er desuden en stor del kollegaer, der er stoppet, og det kan tydeligt mærkes hvor travlt der er bleven. Mange ordre bliver smidt ud, hvilket os kure der er tilbage ik kan nå og hente i tide som i erstatter/betaler. 100% selv forskyldt \"Wolt\" Nærighed giver aldrig gode resultater. Giv og det kommer tilbage, nærig og du får smæk.!!\\nDet varer nok ik længe til jeg gør samme'\n",
      " 'Alle gode, lige bortset fra mc Kastrup. De er uden undtagelse, altid imellem 7-10 min bagud. Undskyldning vi har så travlt, de har sådan en disrespekt overfor os kure'\n",
      " 'Hej med jer \"Wolt\" i taler om at i har lyttet til os kure og retfærdigt gjort appen. Først har i sat vores startgebyr ned fra 45,- til 35,- tideligere var det fuglrafstand på 450 meter når virkeligheden var 2 km. Ñu har i endnu en gang rettet appen til fordel for Wolt og ik os der har gjort jer rige. I videoen på YouTube fortæller fyren at i har lyttet til os, hvor vi plejede at få betaling pr stk for fuld afstand. Nu har i så igen ændret appen til fordel for Wolt, så en levering der i virkeligheden er 5 km, kan give 24,- da det er en leverance tæt på den forrige og ikke som tidligere, begge ordre fra start til slut. Personligt afviser jeg alle ordre til mindre end 35,-\\nDet vil sige, selv en på 34,95,- bliver afvist \\n\\nPs. Jeg er super skuffet over jeres opførsel imod os. Der er desuden en stor del kollegaer, der er stoppet. Det varer nok ik længe til jeg gør samme'\n",
      " 'Appen er dårlig til og samarbejde med maps. Når det går galt som det tit gør, slår jeg samme adr i maps på min egen tlf og rammer plet hver gang'\n",
      " 'Det nye betalingssystem, hold da op hvor latterligt. I ville forbedre situationen, men hold da op hvor er i gal på den. Jeg får en ordre ud på Ørestad til 87,- hvor jeg plejede at få 120,- plus samme om jeg fik nr 2 med eller nr 3 for den sags skyld. Hvilket ville give over 300,- nu får jeg 87,- for den første og 31,- for nummer 2, Der er i helt gal på den. Jeg har i aften afvist nummer 2 til 31,- forde jeg ku ik drømme om at støtte sådan noget latterligt pjat. Jeg kommer aldrig til og tage en ordre til mindre end 35,- hvor det oprindelig var 50,- til start gebyr. Indtil i blev milliardær og derefter mega næring. Sådan er det bare med de rigtige. Jo mere de har, dos mere næring blir de. Thats life'\n",
      " 'Hej med jer \"Wolt\" jeg vil starte med at nævne, at jeg har været vældig glad for min tid hos Wolt og stolt over at fortælle hvor godt vi tjener, som i dag hedder hvor godt plejede og tjene, for den tid er slut. I taler om at i har lyttet til os kure og retfærdigt gjort appen. Først har i sat vores startgebyr ned fra 45,- til 35,- tideligere var det fuglrafstand på 450 meter når virkeligheden var 2 km. Ñu har i endnu en gang rettet appen til fordel for Wolt og ik os der har gjort jer rige. I videoen på YouTube fortæller fyren at i har lyttet til os, men det er altså ikke helt korrekt, eller så har i har misforstået noget. Nu har i så igen ændret appen til fordel for Wolt, så en levering der i virkeligheden er 5 km, kan give 24,- da det er en leverance tæt på den forrige og ikke som tidligere, begge ordre fra start til slut. Personligt afviser jeg alle ordre til mindre end 35,-\\nDet vil sige, selv en på 34,95,- bliver afvist \\n\\nJeg er super skuffet over jeres opførsel imod os. Der er desuden en stor del kollegaer, der er stoppet, og det kan tydeligt mærkes hvor travlt der er bleven. Mange ordre bliver smidt ud, hvilket os kure der er tilbage ik kan nå og hente i tide som i erstatter/betaler. 100% selv forskyldt \"Wolt\" Nærighed giver aldrig gode resultater. Giv og det kommer tilbage, nærig og du får smæk.!!\\nDet varer nok ik længe til jeg gør samme'\n",
      " 'Few orders 👎' 'Few orders 😢' 'Few orders 😬' 'Few orders 👎👎'\n",
      " 'Few orders 👎😢'\n",
      " 'Silent and no vibration notification when orders ready no longer pushing to Apple Watch.  First order not always appearing only after shutting down app, and opening it again.'\n",
      " 'STOP HIRING NEW COURIERS' 'Wolt is dead' 'Rise the payment!'\n",
      " 'Det er fint' 'Raise the salary' '💓💜💙💛' '💜💓💙💛'\n",
      " 'Use ACTUAL DRIVING DISTANCES instead of straight lines.' 'SCAM SYSTEM'\n",
      " 'System is working against me' 'When will the scam stop'\n",
      " 'You are scammers' 'IT IS A SCAM SYSTEM' 'SCAM' 'Scam system'\n",
      " 'Please change this scam system' \"It's a scam system\" 'System is a scam'\n",
      " 'SYSTEM IS A SCAM' 'Shame on this job' '💩💩💩💩💩💩💩' '💩💩💩💩💩💩💩💩' 'Eeeee'\n",
      " 'Eeeeeee' '💩💩💩💩💩💩💩💩💩💩💩💩' '💩💩💩💩💩💩' '💩💩💩' '💩💩💩💩💩💩💩💩💩💩💩' '💩💩💩💩💩💩💩💩💩' '💩💩💩💩💩'\n",
      " 'Low pay' 'Eee' '???????' 'Eeee' 'Fuck all' 'I’m on holidays' 'Happy 🙂'\n",
      " 'Please reduce the opening hours, especially on weekdays, preferably from 8:00 to 10:00, as it is extremely taxing. The only result now is that customers extend their preferences, meaning the same number of orders - only elongated. A million thanks! 🙏'\n",
      " \"I have sent information about the system clearly making errors when calculating the distance and offering us money based on that. I want to report that and also the extremely disrespectful attitude and bad service i received from Mads and another girl in CPH I talked to before him, but I can't see her bane anymore.\\n\\nI've requested several times to be contacted by the ops team because I need someone to actually pay attention to these issues. Communication with support is getting increasingly more and more difficult because of their bad attitude, dismissive answers and lack of will to help. Plus, the system is making these mistakes often and that means we're losing money but no one is doing anything about it either. Any information you may need can be found in my last chat with Mads and once again, I want to request to be contacted by the ops team so I can get some proper assistance in these very important and worrying matters.\"\n",
      " 'App still sucks' 'Few orders for too many couriers']\n"
     ]
    }
   ],
   "source": [
    "# See the duplicated comment texts\n",
    "print(duplicates.unique())"
   ]
  },
  {
   "cell_type": "code",
   "execution_count": 41,
   "id": "d3207b0a",
   "metadata": {},
   "outputs": [
    {
     "name": "stdout",
     "output_type": "stream",
     "text": [
      "1000\n"
     ]
    }
   ],
   "source": [
    "# Check for duplicated comment from same courier\n",
    "dublicated_comments_by_same_courier = (\n",
    "    data2.groupby(['Courier_ID', 'Comment'])\n",
    "    .size()\n",
    "    .reset_index(name='count')\n",
    "    .query('count > 1')\n",
    ")\n",
    "\n",
    "# How many duplicated comments total from the same couriers\n",
    "print((dublicated_comments_by_same_courier['count'] - 1).sum()) #minusser med 1, fordi den oprindelige kommentar ikke skal betragtes som duplikation.\n",
    "# 1813 duplicated entries\n",
    "\n",
    "# See the duplicated comments from the same couriers in the variable definition "
   ]
  },
  {
   "cell_type": "code",
   "execution_count": null,
   "id": "9e34e7a1",
   "metadata": {},
   "outputs": [
    {
     "data": {
      "text/plain": [
       "6080"
      ]
     },
     "execution_count": 43,
     "metadata": {},
     "output_type": "execute_result"
    }
   ],
   "source": [
    "# Remove duplicate comments within the same Courier_ID\n",
    "data2 = data2.drop_duplicates(subset=['Courier_ID', 'Comment'])\n",
    "# Show the number of observations in dat2\n",
    "len(data2) # 7903 observations.\n",
    "\n",
    "# so the 1813 duplicates have been correctly removed\n",
    "\n",
    "#7080 - 1000 = 7080"
   ]
  },
  {
   "cell_type": "code",
   "execution_count": 45,
   "id": "5f040a26",
   "metadata": {},
   "outputs": [],
   "source": [
    "# Save dat2 as a CSV file without row names\n",
    "data2.to_csv(\"dat2023_no_dup.csv\", index=False)"
   ]
  }
 ],
 "metadata": {
  "kernelspec": {
   "display_name": "Python duplicate_removal",
   "language": "python",
   "name": "duplicate_removal"
  },
  "language_info": {
   "codemirror_mode": {
    "name": "ipython",
    "version": 3
   },
   "file_extension": ".py",
   "mimetype": "text/x-python",
   "name": "python",
   "nbconvert_exporter": "python",
   "pygments_lexer": "ipython3",
   "version": "3.9.12"
  }
 },
 "nbformat": 4,
 "nbformat_minor": 5
}
